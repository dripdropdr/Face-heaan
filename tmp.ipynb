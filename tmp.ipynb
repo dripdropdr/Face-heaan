{
 "cells": [
  {
   "cell_type": "code",
   "execution_count": 2,
   "metadata": {},
   "outputs": [],
   "source": [
    "import os"
   ]
  },
  {
   "cell_type": "code",
   "execution_count": 12,
   "metadata": {},
   "outputs": [
    {
     "data": {
      "text/plain": [
       "['IMG_2073.jpeg',\n",
       " 'IMG_2069.jpeg',\n",
       " 'IMG_2086.jpeg',\n",
       " '.DS_Store',\n",
       " 'IMG_2072.jpeg',\n",
       " 'IMG_2080.jpeg',\n",
       " 'KakaoTalk_Photo_2023-04-16-10-45-37.jpeg',\n",
       " 'IMG_2079.jpeg',\n",
       " 'KakaoTalk_Photo_2023-04-16-10-45-40.jpeg',\n",
       " 'IMG_2075.jpeg',\n",
       " 'IMG_2074.jpeg',\n",
       " 'IMG_2078.jpeg',\n",
       " 'IMG_2081.jpeg',\n",
       " 'IMG_2082.jpeg',\n",
       " 'IMG_2077.jpeg',\n",
       " 'IMG_2076.jpeg',\n",
       " 'IMG_2083.jpeg',\n",
       " 'KakaoTalk_Photo_2023-04-16-10-45-34.jpeg',\n",
       " 'IMG_2071.jpeg',\n",
       " 'KakaoTalk_Photo_2023-04-16-10-45-44.jpeg',\n",
       " 'IMG_2084.jpeg',\n",
       " 'KakaoTalk_Photo_2023-04-16-10-45-48.jpeg',\n",
       " 'IMG_2085.jpeg',\n",
       " 'IMG_2070.jpeg']"
      ]
     },
     "execution_count": 12,
     "metadata": {},
     "output_type": "execute_result"
    }
   ],
   "source": [
    "img_list = os.listdir('face_img/kim')\n",
    "img_list"
   ]
  },
  {
   "cell_type": "code",
   "execution_count": 13,
   "metadata": {},
   "outputs": [],
   "source": [
    "for idx, fn in enumerate(img_list):\n",
    "    os.rename(f'face_img/kim/{fn}', f'face_img/kim/kim_{idx}.jpeg')"
   ]
  },
  {
   "cell_type": "code",
   "execution_count": 2,
   "metadata": {},
   "outputs": [],
   "source": [
    "import dlib\n",
    "import cv2\n",
    "\n",
    "img = cv2.imread('face_img/hong_0.jpeg', 0)\n",
    "detector = dlib.get_frontal_face_detector()\n",
    "dets = detector(img, 1)"
   ]
  },
  {
   "cell_type": "code",
   "execution_count": 12,
   "metadata": {},
   "outputs": [
    {
     "name": "stdout",
     "output_type": "stream",
     "text": [
      "(958, 959) (958, 959)\n",
      "(958, 959, 2)\n"
     ]
    },
    {
     "ename": "error",
     "evalue": "OpenCV(4.7.0) /Users/runner/work/opencv-python/opencv-python/opencv/modules/imgcodecs/src/loadsave.cpp:699: error: (-215:Assertion failed) image.channels() == 1 || image.channels() == 3 || image.channels() == 4 in function 'imwrite_'\n",
     "output_type": "error",
     "traceback": [
      "\u001b[0;31m---------------------------------------------------------------------------\u001b[0m",
      "\u001b[0;31merror\u001b[0m                                     Traceback (most recent call last)",
      "\u001b[0;32m/var/folders/jy/4d7tq7ds17z035ggclj8cf940000gn/T/ipykernel_19140/1676759139.py\u001b[0m in \u001b[0;36m<module>\u001b[0;34m\u001b[0m\n\u001b[1;32m      6\u001b[0m     \u001b[0mface\u001b[0m \u001b[0;34m=\u001b[0m \u001b[0mnp\u001b[0m\u001b[0;34m.\u001b[0m\u001b[0mdstack\u001b[0m\u001b[0;34m(\u001b[0m\u001b[0;34m(\u001b[0m\u001b[0mcrop\u001b[0m\u001b[0;34m,\u001b[0m \u001b[0mnp\u001b[0m\u001b[0;34m.\u001b[0m\u001b[0mfliplr\u001b[0m\u001b[0;34m(\u001b[0m\u001b[0mcrop\u001b[0m\u001b[0;34m)\u001b[0m\u001b[0;34m)\u001b[0m\u001b[0;34m)\u001b[0m\u001b[0;34m\u001b[0m\u001b[0;34m\u001b[0m\u001b[0m\n\u001b[1;32m      7\u001b[0m     \u001b[0mprint\u001b[0m\u001b[0;34m(\u001b[0m\u001b[0mface\u001b[0m\u001b[0;34m.\u001b[0m\u001b[0mshape\u001b[0m\u001b[0;34m)\u001b[0m\u001b[0;34m\u001b[0m\u001b[0;34m\u001b[0m\u001b[0m\n\u001b[0;32m----> 8\u001b[0;31m     \u001b[0mcv2\u001b[0m\u001b[0;34m.\u001b[0m\u001b[0mimwrite\u001b[0m\u001b[0;34m(\u001b[0m\u001b[0;34m\"face.jpg\"\u001b[0m\u001b[0;34m,\u001b[0m \u001b[0mface\u001b[0m\u001b[0;34m)\u001b[0m\u001b[0;34m\u001b[0m\u001b[0;34m\u001b[0m\u001b[0m\n\u001b[0m\u001b[1;32m      9\u001b[0m \u001b[0;34m\u001b[0m\u001b[0m\n",
      "\u001b[0;31merror\u001b[0m: OpenCV(4.7.0) /Users/runner/work/opencv-python/opencv-python/opencv/modules/imgcodecs/src/loadsave.cpp:699: error: (-215:Assertion failed) image.channels() == 1 || image.channels() == 3 || image.channels() == 4 in function 'imwrite_'\n"
     ]
    }
   ],
   "source": [
    "import numpy as np\n",
    "\n",
    "for i, d in enumerate(dets):\n",
    "    crop = img[d.top():d.bottom(), d.left():d.right()]\n",
    "    print(crop.shape, np.fliplr(crop).shape)\n",
    "    face = np.dstack((crop, np.fliplr(crop)))\n",
    "    print(face.shape)\n",
    "    cv2.imwrite(\"face.jpg\", face)\n",
    "    "
   ]
  }
 ],
 "metadata": {
  "kernelspec": {
   "display_name": "face-heaan",
   "language": "python",
   "name": "python3"
  },
  "language_info": {
   "codemirror_mode": {
    "name": "ipython",
    "version": 3
   },
   "file_extension": ".py",
   "mimetype": "text/x-python",
   "name": "python",
   "nbconvert_exporter": "python",
   "pygments_lexer": "ipython3",
   "version": "3.7.16"
  },
  "orig_nbformat": 4
 },
 "nbformat": 4,
 "nbformat_minor": 2
}
