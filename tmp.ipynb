{
 "cells": [
  {
   "cell_type": "code",
   "execution_count": 2,
   "metadata": {},
   "outputs": [],
   "source": [
    "import os"
   ]
  },
  {
   "cell_type": "code",
   "execution_count": 12,
   "metadata": {},
   "outputs": [
    {
     "data": {
      "text/plain": [
       "['IMG_2073.jpeg',\n",
       " 'IMG_2069.jpeg',\n",
       " 'IMG_2086.jpeg',\n",
       " '.DS_Store',\n",
       " 'IMG_2072.jpeg',\n",
       " 'IMG_2080.jpeg',\n",
       " 'KakaoTalk_Photo_2023-04-16-10-45-37.jpeg',\n",
       " 'IMG_2079.jpeg',\n",
       " 'KakaoTalk_Photo_2023-04-16-10-45-40.jpeg',\n",
       " 'IMG_2075.jpeg',\n",
       " 'IMG_2074.jpeg',\n",
       " 'IMG_2078.jpeg',\n",
       " 'IMG_2081.jpeg',\n",
       " 'IMG_2082.jpeg',\n",
       " 'IMG_2077.jpeg',\n",
       " 'IMG_2076.jpeg',\n",
       " 'IMG_2083.jpeg',\n",
       " 'KakaoTalk_Photo_2023-04-16-10-45-34.jpeg',\n",
       " 'IMG_2071.jpeg',\n",
       " 'KakaoTalk_Photo_2023-04-16-10-45-44.jpeg',\n",
       " 'IMG_2084.jpeg',\n",
       " 'KakaoTalk_Photo_2023-04-16-10-45-48.jpeg',\n",
       " 'IMG_2085.jpeg',\n",
       " 'IMG_2070.jpeg']"
      ]
     },
     "execution_count": 12,
     "metadata": {},
     "output_type": "execute_result"
    }
   ],
   "source": [
    "img_list = os.listdir('face_img/kim')\n",
    "img_list"
   ]
  },
  {
   "cell_type": "code",
   "execution_count": 13,
   "metadata": {},
   "outputs": [],
   "source": [
    "for idx, fn in enumerate(img_list):\n",
    "    os.rename(f'face_img/kim/{fn}', f'face_img/kim/kim_{idx}.jpeg')"
   ]
  }
 ],
 "metadata": {
  "kernelspec": {
   "display_name": "face-heaan",
   "language": "python",
   "name": "python3"
  },
  "language_info": {
   "codemirror_mode": {
    "name": "ipython",
    "version": 3
   },
   "file_extension": ".py",
   "mimetype": "text/x-python",
   "name": "python",
   "nbconvert_exporter": "python",
   "pygments_lexer": "ipython3",
   "version": "3.10.9"
  },
  "orig_nbformat": 4
 },
 "nbformat": 4,
 "nbformat_minor": 2
}
